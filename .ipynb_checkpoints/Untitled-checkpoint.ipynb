{
 "cells": [
  {
   "cell_type": "code",
   "execution_count": 8,
   "metadata": {},
   "outputs": [
    {
     "name": "stdout",
     "output_type": "stream",
     "text": [
      "ffce7a957d36be0ef2d4d0598608ff8a\n"
     ]
    }
   ],
   "source": [
    "from Crypto.Cipher import AES\n",
    "from Crypto.Util import Counter\n",
    "import binascii\n",
    "import os\n",
    "\n",
    "rand_iv = binascii.hexlify(os.urandom(16))\n",
    "ctr_func = Counter.new(128, initial_value=int(rand_iv, 16))\n",
    "enc_cipher = AES.new('a'*16, AES.MODE_CTR, counter = ctr_func)\n",
    "encrypted_balance = binascii.hexlify(enc_cipher.encrypt('AAAA'.ljust(16, 'B')))\n",
    "print encrypted_balance"
   ]
  },
  {
   "cell_type": "code",
   "execution_count": 18,
   "metadata": {},
   "outputs": [
    {
     "name": "stdout",
     "output_type": "stream",
     "text": [
      "'@.\\xf0\\x15\\xbc\\xb0\\xb3T\\x05}\\xb5\\x1d2]\\xd0\\xb3\\xa9\\xc1\\x94\\x0f\\x98a5~%d(\\x9e\\x85\\xbbw\\x04'\n"
     ]
    }
   ],
   "source": [
    "import hmac\n",
    "import hashlib\n",
    "\n",
    "enc_msg = '\\x02\\x16\\xa0\\x17\\xdb\\xb2%\\xa1\\x16u\\x01b\\xad\\xf07\\n'\n",
    "iv = '=\\x8c\\xf2\\xf0(\\xde\\xfc\\x88\\xf4\\x860\\x1b:\\xa4k['\n",
    "\n",
    "s = hmac.new(\"ffa91a36f659c26eb18de4fe8aaf9b99fb7de5cf9374c197c82427e7d95c15e3\".decode(\"hex\"), enc_msg + iv, hashlib.sha256).digest()\n",
    "\n",
    "print repr(s)"
   ]
  },
  {
   "cell_type": "code",
   "execution_count": null,
   "metadata": {},
   "outputs": [],
   "source": []
  }
 ],
 "metadata": {
  "kernelspec": {
   "display_name": "Python 2",
   "language": "python",
   "name": "python2"
  },
  "language_info": {
   "codemirror_mode": {
    "name": "ipython",
    "version": 2
   },
   "file_extension": ".py",
   "mimetype": "text/x-python",
   "name": "python",
   "nbconvert_exporter": "python",
   "pygments_lexer": "ipython2",
   "version": "2.7.14"
  }
 },
 "nbformat": 4,
 "nbformat_minor": 2
}
